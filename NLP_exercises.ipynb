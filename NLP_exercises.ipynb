{
  "nbformat": 4,
  "nbformat_minor": 0,
  "metadata": {
    "colab": {
      "provenance": []
    },
    "kernelspec": {
      "name": "python3",
      "display_name": "Python 3"
    },
    "language_info": {
      "name": "python"
    }
  },
  "cells": [
    {
      "cell_type": "markdown",
      "source": [
        "## **NLTK - Natural language toolkit**\n",
        "\n",
        "NLTK has been called “a wonderful tool for teaching, and working in, computational linguistics using Python,” and “an amazing library to play with natural language.”"
      ],
      "metadata": {
        "id": "cQQ9VL1jxdlE"
      }
    },
    {
      "cell_type": "markdown",
      "source": [
        "\n",
        "### **Installation of NLTK**"
      ],
      "metadata": {
        "id": "GZg7psq7XSRB"
      }
    },
    {
      "cell_type": "code",
      "source": [
        "# pip is the package manager for Python. It is used to install, upgrade,\n",
        "# and manage Python libraries and packages from the Python Package Index (PyPI)\n",
        "# and other package repositories.\n",
        "\n",
        "!pip install nltk\n"
      ],
      "metadata": {
        "id": "6VertmXvpNFh"
      },
      "execution_count": null,
      "outputs": []
    },
    {
      "cell_type": "code",
      "source": [
        "import nltk\n",
        "\n",
        "#Downloads the Punkt tokenizer models.\n",
        "#This is used for tokenizing text into sentences or words.\n",
        "nltk.download('punkt')\n",
        "\n",
        "#Downloads a list of common stopwords in various languages (e.g., \"is,\" \"and,\" \"the\").\n",
        "#These are often removed in text processing to focus on meaningful words.\n",
        "nltk.download('stopwords')\n",
        "\n",
        "#Downloads the WordNet lexical database.\n",
        "#It provides understanding relationships between words as synonyms, antonyms, and hierarchies.\n",
        "nltk.download('wordnet')\n",
        "\n",
        "#Downloads the model for Part-of-Speech (POS) tagging,\n",
        "#which assigns grammatical tags (e.g., noun, verb) to words in a sentence.\n",
        "nltk.download('averaged_perceptron_tagger')\n",
        "\n",
        "#Downloads the VADER (Valence Aware Dictionary and sEntiment Reasoner) lexicon,\n",
        "#which is used for sentiment analysis, particularly for social media text.\n",
        "nltk.download('vader_lexicon')\n",
        "\n",
        "#Likely a typo or redundant (similar to 'punkt') or a specific tokenization resource.\n",
        "nltk.download('punkt_tab')\n",
        "\n",
        "#Appears to specify an English model for POS tagging.\n",
        "#This isn't a standard resource name in NLTK and might be an extended or custom implementation.\n",
        "nltk.download('averaged_perceptron_tagger_eng')\n",
        "\n",
        "#the Maximum Entropy Named Entity Chunker model, used for named entity recognition (NER)\n",
        "#to identify entities like names, locations, and organizations in text.\n",
        "nltk.download('maxent_ne_chunker_tab')\n",
        "\n",
        "#Downloads a corpus of English words, often used for\n",
        "#checking spelling or identifying valid English words.\n",
        "nltk.download('words')\n"
      ],
      "metadata": {
        "id": "0SYzphRwpOUc"
      },
      "execution_count": null,
      "outputs": []
    },
    {
      "cell_type": "code",
      "source": [
        "from nltk.tokenize import word_tokenize\n",
        "from nltk.corpus import stopwords\n",
        "from nltk.tokenize import sent_tokenize\n",
        "from nltk.stem import WordNetLemmatizer\n",
        "from nltk import ne_chunk\n",
        "\n",
        "from nltk import pos_tag\n",
        "from nltk.tokenize import word_tokenize\n",
        "from nltk.tree import Tree\n",
        "\n",
        "from nltk.sentiment import SentimentIntensityAnalyzer"
      ],
      "metadata": {
        "id": "F1DYpq1qvd8L"
      },
      "execution_count": null,
      "outputs": []
    },
    {
      "cell_type": "markdown",
      "source": [
        "### **1. Tokenization**"
      ],
      "metadata": {
        "id": "8wrxAuY9XcaS"
      }
    },
    {
      "cell_type": "code",
      "source": [
        "\n",
        "text = \"Natural Language Processing is exciting. Let's learn it with NLTK!\"\n",
        "print(\"Sentence Tokenization:\", sent_tokenize(text))\n",
        "print(\"Word Tokenization:\", word_tokenize(text))\n"
      ],
      "metadata": {
        "id": "64XcOS9UpQlK"
      },
      "execution_count": null,
      "outputs": []
    },
    {
      "cell_type": "markdown",
      "source": [
        "### **Task: Write a code to count the number of sentences and words in a given paragraph.**\n"
      ],
      "metadata": {
        "id": "CxF5veyUXGda"
      }
    },
    {
      "cell_type": "markdown",
      "source": [
        "Pedro Páramo is a novel by Mexican writer Juan Rulfo, first published in 1955. This novel showcases the roots of Mexican culture and its beliefs on afterlife through deeply complex characters, spirituality, and a constant transition between realms/dimensions that encompass a nonlinear chronology.\n",
        "\n",
        "\n",
        " ![images.jpg](data:image/jpeg;base64,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)\n"
      ],
      "metadata": {
        "id": "z9x4txO-mFXI"
      }
    },
    {
      "cell_type": "code",
      "source": [
        "\n",
        "\n",
        "text2 = \"Vine a Comala porque me dijeron que acá vivía mi padre, un tal Pedro Páramo. \\\n",
        "Mi madre me lo dijo. Y yo le prometí que vendría a verlo en cuanto ella muriera.\\\n",
        " Le apreté sus manos en señal de que lo haría, pues ella estaba por morirse y yo en un plan de prometerlo todo.\\\n",
        "  \"\"No dejes de ir a visitarlo -me recomendó. Se llama de este modo y de este otro. Estoy segura de que le dar gusto conocerte.\\\n",
        "  \"\" Entonces no pude hacer otra cosa sino decirle que así lo haría, \\\n",
        "  y de tanto decírselo se lo seguí diciendo aun después de que a mis manos les costó trabajo zafarse de sus manos muertas. \"\n",
        "\n",
        "\n",
        "t1=sent_tokenize(text2)\n",
        "t2=word_tokenize(text2)\n",
        "\n",
        "print(\"Sentence Tokenization:\", t1)\n",
        "print(\"number of sentences: \",len(t1))\n",
        "\n",
        "print(\"Word Tokenization:\", t2)\n",
        "print(\"number of word: \",len(t2))"
      ],
      "metadata": {
        "id": "GNArvlULpd7i"
      },
      "execution_count": null,
      "outputs": []
    },
    {
      "cell_type": "markdown",
      "source": [
        "### **2. Lemmatization**"
      ],
      "metadata": {
        "id": "swZTfamfXl8g"
      }
    },
    {
      "cell_type": "code",
      "source": [
        "\n",
        "lemmatizer = WordNetLemmatizer()\n",
        "words = [\"running\", \"runs\", \"ran\", \"easily\", \"fairly\"]\n",
        "lemmatized_words = [lemmatizer.lemmatize(w, pos=\"v\") for w in words]\n",
        "print(\"Lemmatized Words:\", lemmatized_words)"
      ],
      "metadata": {
        "id": "GzzjEz30sVC9"
      },
      "execution_count": null,
      "outputs": []
    },
    {
      "cell_type": "markdown",
      "source": [
        "### **Task: Do your own exercise lemmatiza all words in a given text.**"
      ],
      "metadata": {
        "id": "-TPIK29bX1S8"
      }
    },
    {
      "cell_type": "code",
      "source": [
        "lemmatizer = WordNetLemmatizer()\n",
        "words = [\"changing\", \"changed\", \"change\"]\n",
        "lemmatized_words = [lemmatizer.lemmatize(w, pos=\"v\") for w in words]\n",
        "print(\"Lemmatized Words:\", lemmatized_words)"
      ],
      "metadata": {
        "id": "dLHDOnBgXio4"
      },
      "execution_count": null,
      "outputs": []
    },
    {
      "cell_type": "markdown",
      "source": [
        "### **3. Named Entity Recognition**"
      ],
      "metadata": {
        "id": "K5WFDHm9auzU"
      }
    },
    {
      "cell_type": "code",
      "source": [
        "# Example 1\n",
        "\n",
        "text = \"Barack Obama was the 44th President of the United States.\"\n",
        "tokens = nltk.word_tokenize(text)\n",
        "pos_tags = nltk.pos_tag(tokens)\n",
        "tree = ne_chunk(pos_tags)\n",
        "print(\"Named Entities:\", tree)"
      ],
      "metadata": {
        "id": "JZ2eFn39e-OC"
      },
      "execution_count": null,
      "outputs": []
    },
    {
      "cell_type": "code",
      "source": [
        "# Example 2\n",
        "\n",
        "text = \"Barack Obama was the 44th President of the United States.\"\n",
        "tokens = word_tokenize(text)\n",
        "pos_tags = pos_tag(tokens)\n",
        "\n",
        "#review of the entities\n",
        "ne_tree = ne_chunk(pos_tags)\n",
        "\n",
        "# review each elemented revied above\n",
        "for subtree in ne_tree:\n",
        "\n",
        "#if the declaration is an entity send it to print\n",
        "    if isinstance(subtree, Tree):\n",
        "        print(\"Named Entity:\", \" \".join(word for word, tag in subtree.leaves()))"
      ],
      "metadata": {
        "id": "ZuomxF5TYr4o"
      },
      "execution_count": null,
      "outputs": []
    },
    {
      "cell_type": "markdown",
      "source": [
        "### **Task: Write a function to extract and list all named entities from a paragraph.**"
      ],
      "metadata": {
        "id": "-shp6vQwdrDI"
      }
    },
    {
      "cell_type": "code",
      "source": [
        "#Exercuse for students. Replace the text.\n",
        "\n",
        "text = \"Don Quixote is a middle-aged gentleman from the region of La Mancha in central Spain. \\\n",
        "Obsessed with the chivalrous ideals touted in books he has read, \\\n",
        "he decides to take up his lance and sword to defend the helpless and destroy the wicked. \\\n",
        "After a first failed adventure, he sets out on a second one with a somewhat befuddled laborer named Sancho Panza,\\\n",
        "whom he has persuaded to accompany him as his faithful squire. In return for Sancho’s services, \\\n",
        "Don Quixote promises to make Sancho the wealthy governor of an isle. \\\n",
        "On his horse, Rocinante, a barn nag well past his prime, Don Quixote rides the roads of Spain in search of glory and grand adventure.\\\n",
        "He gives up food, shelter, and comfort, all in the name of a peasant woman, Dulcinea del Toboso, whom he envisions as a princess.\"\n",
        "\n",
        "tokens = word_tokenize(text)\n",
        "pos_tags = pos_tag(tokens)\n",
        "ne_tree = ne_chunk(pos_tags)\n",
        "\n",
        "for subtree in ne_tree:\n",
        "    if isinstance(subtree, Tree):\n",
        "        print(\"Named Entity:\", \" \".join(word for word, tag in subtree.leaves()))"
      ],
      "metadata": {
        "id": "xPZpJ9SOamb7"
      },
      "execution_count": null,
      "outputs": []
    },
    {
      "cell_type": "markdown",
      "source": [
        "### **4. Intent Detection Using NLTK**"
      ],
      "metadata": {
        "id": "5h83Qnt84o4P"
      }
    },
    {
      "cell_type": "code",
      "source": [
        "# Predefined intents and their associated keywords\n",
        "intents = {\n",
        "    \"greeting\": [\"hello\", \"hi\", \"hey\", \"greetings\", \"morning\", \"evening\"],\n",
        "    \"goodbye\": [\"bye\", \"goodbye\", \"see you\", \"take care\", \"farewell\"],\n",
        "    \"order_food\": [\"order\", \"pizza\", \"burger\", \"food\", \"delivery\", \"menu\"],\n",
        "    \"book_appointment\": [\"appointment\", \"book\", \"schedule\", \"meeting\", \"doctor\"],\n",
        "}\n",
        "\n",
        "def detect_intent(user_input):\n",
        "    \"\"\"\n",
        "    Detects the intent of a given user input based on predefined keywords.\n",
        "\n",
        "    Args:\n",
        "        user_input (str): Input text from the user.\n",
        "\n",
        "    Returns:\n",
        "        str: Detected intent or 'unknown' if no match is found.\n",
        "    \"\"\"\n",
        "    #We split into words the data input by the user\n",
        "    tokens = word_tokenize(user_input.lower())\n",
        "\n",
        "    # retrieves a list of common English stop words.  include \"the,\" \"a,\" \"is,\" \"are,\" \"and,\" \"in,\" etc.\n",
        "    stop_words = set(stopwords.words('english'))\n",
        "\n",
        "    #This line cleans alfanumerical and stop words\n",
        "    filtered_tokens = [word for word in tokens if word.isalnum() and word not in stop_words]\n",
        "\n",
        "    #The magic happens. The comparisson of words and intents.\n",
        "    for intent, keywords in intents.items():\n",
        "        if any(keyword in filtered_tokens for keyword in keywords):\n",
        "            return intent\n",
        "\n",
        "    return \"unknown\"\n",
        "\n",
        "# Example usage\n",
        "user_inputs = [\n",
        "    \"Hello, can you help me?\",\n",
        "    #\"I want to order a pizza.\",\n",
        "    #\"Can I schedule a doctor's appointment?\",\n",
        "    #\"Goodbye for now!\",\n",
        "    #\"What's the weather today?\"\n",
        "]\n",
        "\n",
        "for input_text in user_inputs:\n",
        "    intent = detect_intent(input_text)\n",
        "\n",
        "    print(f\"User Input: '{input_text}' → Detected Intent: '{intent}'\")"
      ],
      "metadata": {
        "id": "Dg_iuuzNvIl8"
      },
      "execution_count": null,
      "outputs": []
    },
    {
      "cell_type": "markdown",
      "source": [
        "**Conclussion**\n",
        "\n",
        "As we can see on the code above we did not use anything intelligent, smart or pre trained for determine something is an intention.\n",
        "\n",
        "While we use other techniques for cleaning and analyzing the input information as words."
      ],
      "metadata": {
        "id": "wJ7PpmGkATUL"
      }
    },
    {
      "cell_type": "markdown",
      "source": [
        "### **5. Frequency Distribution**\n",
        "\n"
      ],
      "metadata": {
        "id": "2zVOPLOyfqDz"
      }
    },
    {
      "cell_type": "code",
      "source": [
        "text = \"This is an example sentence to find word frequencies.\"\n",
        "words = nltk.word_tokenize(text)\n",
        "fdist = nltk.FreqDist(words)\n",
        "print(\"Most common words:\", fdist.most_common())"
      ],
      "metadata": {
        "id": "yJxW0k3JDo8f"
      },
      "execution_count": null,
      "outputs": []
    },
    {
      "cell_type": "markdown",
      "source": [
        "###**Task: Try here with your own text**"
      ],
      "metadata": {
        "id": "c-sb_PxmDZN4"
      }
    },
    {
      "cell_type": "markdown",
      "source": [
        "**Kahlil Gibran**, was a Lebanese-American writer, poet and visual artist; he was also considered a philosopher\n",
        "\n",
        "Born: January 6, 1883\n",
        "\n",
        "Died: April 10, 1931 (age 48 years)"
      ],
      "metadata": {
        "id": "YvahMZo3Fxu7"
      }
    },
    {
      "cell_type": "code",
      "source": [
        "text = \"Do not love half lovers - Kahlil Gibran\\\n",
        "Do not love half lovers\\\n",
        "Do not entertain half friends\\\n",
        "Do not indulge in works of the half talented\\\n",
        "Do not live half a life and do not die a half death\"\n",
        "\n",
        "words = nltk.word_tokenize(text)\n",
        "fdist = nltk.FreqDist(words)\n",
        "print(\"Most common words:\", fdist.most_common())"
      ],
      "metadata": {
        "id": "rf5rL7_1d_z_"
      },
      "execution_count": null,
      "outputs": []
    },
    {
      "cell_type": "markdown",
      "source": [
        "### **6. Sentiment Analysis**"
      ],
      "metadata": {
        "id": "h3RmjsFEd4qs"
      }
    },
    {
      "cell_type": "code",
      "source": [
        "sia = SentimentIntensityAnalyzer()\n",
        "text = \"NLTK is a wonderful library!\"\n",
        "sentiment = sia.polarity_scores(text)\n",
        "print(\"Sentiment Scores:\", sentiment)"
      ],
      "metadata": {
        "id": "yOtaFrpXd83H"
      },
      "execution_count": null,
      "outputs": []
    },
    {
      "cell_type": "markdown",
      "source": [
        "**neg**: The negative sentiment score.\n",
        "\n",
        "**neu**: The neutral sentiment score.\n",
        "\n",
        "**pos**: The positive sentiment score.\n",
        "\n",
        "**compound**: A normalized score that represents the overall sentiment.\n",
        "\n",
        " It ranges from -1 (very negative) to 1 (very positive). Scores around 0 typically indicate neutral sentiment."
      ],
      "metadata": {
        "id": "c7y9kfdoOe7S"
      }
    },
    {
      "cell_type": "code",
      "source": [
        "sia = SentimentIntensityAnalyzer()\n",
        "text = \"Insert here your phrase in english\"\n",
        "sentiment = sia.polarity_scores(text)\n",
        "print(\"Sentiment Scores:\", sentiment)"
      ],
      "metadata": {
        "id": "T7JUb-lqP3r5"
      },
      "execution_count": null,
      "outputs": []
    },
    {
      "cell_type": "markdown",
      "source": [
        "## **spaCy - Industrial-strength Natural Language Processing in Python**"
      ],
      "metadata": {
        "id": "DWIvarosxwtp"
      }
    },
    {
      "cell_type": "markdown",
      "source": [
        "### **Comparison: Named Entity Recognition (NER)**"
      ],
      "metadata": {
        "id": "GZs8HhyJUjbR"
      }
    },
    {
      "cell_type": "code",
      "source": [
        "# Example text\n",
        "text = \"Barack Obama was the 44th President of the United States and was born in Hawaii.\"\n",
        "\n",
        "# Tokenize and tag\n",
        "tokens = word_tokenize(text)\n",
        "pos_tags = pos_tag(tokens)\n",
        "\n",
        "# Perform Named Entity Recognition\n",
        "ne_tree = ne_chunk(pos_tags)\n",
        "\n",
        "# Extract Named Entities\n",
        "entities = []\n",
        "for subtree in ne_tree:\n",
        "    if hasattr(subtree, 'label'):\n",
        "        entity_name = \" \".join([leaf[0] for leaf in subtree.leaves()])\n",
        "        entity_type = subtree.label()\n",
        "        entities.append((entity_name, entity_type))\n",
        "\n",
        "print(\"Entities using NLTK:\", entities)"
      ],
      "metadata": {
        "id": "NLFpfh8VWTft"
      },
      "execution_count": null,
      "outputs": []
    },
    {
      "cell_type": "code",
      "source": [
        "import spacy\n",
        "\n",
        "# Load spaCy's pre-trained model\n",
        "nlp = spacy.load(\"en_core_web_sm\")\n",
        "\n",
        "# Example text\n",
        "text = \"Barack Obama was the 44th President of the United States and was born in Hawaii.\"\n",
        "\n",
        "# Process text\n",
        "doc = nlp(text)\n",
        "\n",
        "# Extract Named Entities\n",
        "entities = [(ent.text, ent.label_) for ent in doc.ents]\n",
        "print(\"Entities using spaCy:\", entities)"
      ],
      "metadata": {
        "id": "kdqDgG8zx9bX"
      },
      "execution_count": null,
      "outputs": []
    },
    {
      "cell_type": "code",
      "source": [],
      "metadata": {
        "id": "KmkUSvTd6b69"
      },
      "execution_count": null,
      "outputs": []
    }
  ]
}